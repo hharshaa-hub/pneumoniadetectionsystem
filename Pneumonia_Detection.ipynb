{
  "nbformat": 4,
  "nbformat_minor": 0,
  "metadata": {
    "colab": {
      "provenance": [],
      "gpuType": "T4",
      "mount_file_id": "1F4wuFAuKfzRUsmzsxxnZNspcf1vA22nz",
      "authorship_tag": "ABX9TyPbspw5bMpbRmmS3mLlj5Pk",
      "include_colab_link": true
    },
    "kernelspec": {
      "name": "python3",
      "display_name": "Python 3"
    },
    "language_info": {
      "name": "python"
    },
    "accelerator": "GPU"
  },
  "cells": [
    {
      "cell_type": "markdown",
      "metadata": {
        "id": "view-in-github",
        "colab_type": "text"
      },
      "source": [
        "<a href=\"https://colab.research.google.com/github/hharshaa-hub/pneumoniadetectionsystem/blob/main/Pneumonia_Detection.ipynb\" target=\"_parent\"><img src=\"https://colab.research.google.com/assets/colab-badge.svg\" alt=\"Open In Colab\"/></a>"
      ]
    },
    {
      "cell_type": "code",
      "execution_count": null,
      "metadata": {
        "colab": {
          "base_uri": "https://localhost:8080/"
        },
        "id": "Tlq75BCRQPys",
        "outputId": "27facba7-f12e-488e-e60d-544739c78d77"
      },
      "outputs": [
        {
          "output_type": "stream",
          "name": "stdout",
          "text": [
            "Found existing installation: jax 0.5.3\n",
            "Uninstalling jax-0.5.3:\n",
            "  Successfully uninstalled jax-0.5.3\n",
            "Found existing installation: jaxlib 0.5.3\n",
            "Uninstalling jaxlib-0.5.3:\n",
            "  Successfully uninstalled jaxlib-0.5.3\n",
            "Looking in links: https://storage.googleapis.com/jax-releases/jax_cuda_releases.html\n",
            "Collecting jax\n",
            "  Downloading jax-0.7.1-py3-none-any.whl.metadata (13 kB)\n",
            "Collecting jaxlib\n",
            "  Downloading jaxlib-0.7.1-cp312-cp312-manylinux_2_27_x86_64.whl.metadata (1.3 kB)\n",
            "Requirement already satisfied: ml_dtypes>=0.5.0 in /usr/local/lib/python3.12/dist-packages (from jax) (0.5.3)\n",
            "Requirement already satisfied: numpy>=1.26 in /usr/local/lib/python3.12/dist-packages (from jax) (2.0.2)\n",
            "Requirement already satisfied: opt_einsum in /usr/local/lib/python3.12/dist-packages (from jax) (3.4.0)\n",
            "Requirement already satisfied: scipy>=1.12 in /usr/local/lib/python3.12/dist-packages (from jax) (1.16.1)\n",
            "Downloading jax-0.7.1-py3-none-any.whl (2.8 MB)\n",
            "\u001b[2K   \u001b[90m━━━━━━━━━━━━━━━━━━━━━━━━━━━━━━━━━━━━━━━━\u001b[0m \u001b[32m2.8/2.8 MB\u001b[0m \u001b[31m71.6 MB/s\u001b[0m eta \u001b[36m0:00:00\u001b[0m\n",
            "\u001b[?25hDownloading jaxlib-0.7.1-cp312-cp312-manylinux_2_27_x86_64.whl (81.2 MB)\n",
            "\u001b[2K   \u001b[90m━━━━━━━━━━━━━━━━━━━━━━━━━━━━━━━━━━━━━━━━\u001b[0m \u001b[32m81.2/81.2 MB\u001b[0m \u001b[31m8.2 MB/s\u001b[0m eta \u001b[36m0:00:00\u001b[0m\n",
            "\u001b[?25h"
          ]
        }
      ],
      "source": [
        "!pip uninstall -y jax jaxlib\n",
        "!pip install --upgrade jax jaxlib -f https://storage.googleapis.com/jax-releases/jax_cuda_releases.html\n"
      ]
    },
    {
      "cell_type": "code",
      "source": [
        "# ==============================\n",
        "# Pneumonia Detection (Colab) - Fixed Version\n",
        "# ==============================\n",
        "\n",
        "import os, tensorflow as tf\n",
        "import numpy as np\n",
        "import matplotlib.pyplot as plt\n",
        "from collections import defaultdict\n",
        "from tensorflow.keras.applications import MobileNetV2\n",
        "from tensorflow.keras.models import Model\n",
        "from tensorflow.keras.layers import Dense, GlobalAveragePooling2D, Dropout\n",
        "from tensorflow.keras.callbacks import EarlyStopping, ModelCheckpoint\n",
        "from tensorflow.keras.optimizers import Adam\n",
        "from sklearn.metrics import confusion_matrix, classification_report, roc_auc_score\n",
        "\n",
        "# ==============================\n",
        "# Step 1: Mount Google Drive\n",
        "# ==============================\n",
        "from google.colab import drive\n",
        "drive.mount('/content/drive')\n",
        "\n",
        "BASE_DIR = \"/content/drive/Othercomputers/My Laptop/Documents/project/Aiproject/chest_xray\"\n",
        "train_dir = os.path.join(BASE_DIR, \"train\")\n",
        "test_dir  = os.path.join(BASE_DIR, \"test\")\n",
        "\n",
        "IMG_SIZE = 224\n",
        "BATCH_SIZE = 32\n",
        "SEED = 1337\n",
        "AUTOTUNE = tf.data.AUTOTUNE\n",
        "\n",
        "# ==============================\n",
        "# Step 2: Dataset Setup with validation split\n",
        "# ==============================\n",
        "train_ds = tf.keras.utils.image_dataset_from_directory(\n",
        "    train_dir,\n",
        "    labels=\"inferred\",\n",
        "    label_mode=\"binary\",\n",
        "    image_size=(IMG_SIZE, IMG_SIZE),\n",
        "    batch_size=BATCH_SIZE,\n",
        "    shuffle=True,\n",
        "    seed=SEED,\n",
        "    validation_split=0.1,\n",
        "    subset=\"training\"\n",
        ")\n",
        "\n",
        "val_ds = tf.keras.utils.image_dataset_from_directory(\n",
        "    train_dir,\n",
        "    labels=\"inferred\",\n",
        "    label_mode=\"binary\",\n",
        "    image_size=(IMG_SIZE, IMG_SIZE),\n",
        "    batch_size=BATCH_SIZE,\n",
        "    shuffle=True,\n",
        "    seed=SEED,\n",
        "    validation_split=0.1,\n",
        "    subset=\"validation\"\n",
        ")\n",
        "\n",
        "test_ds = tf.keras.utils.image_dataset_from_directory(\n",
        "    test_dir,\n",
        "    labels=\"inferred\",\n",
        "    label_mode=\"binary\",\n",
        "    image_size=(IMG_SIZE, IMG_SIZE),\n",
        "    batch_size=BATCH_SIZE,\n",
        "    shuffle=False\n",
        ")\n",
        "\n",
        "class_names = train_ds.class_names\n",
        "print(\"Class Names:\", class_names)\n",
        "\n",
        "# ==============================\n",
        "# Step 3: Data Augmentation + Normalization\n",
        "# ==============================\n",
        "data_augmentation = tf.keras.Sequential([\n",
        "    tf.keras.layers.RandomFlip(\"horizontal\"),\n",
        "    tf.keras.layers.RandomRotation(0.1),\n",
        "    tf.keras.layers.RandomZoom(0.2),\n",
        "    tf.keras.layers.RandomTranslation(0.1,0.1),\n",
        "    tf.keras.layers.RandomContrast(0.2),\n",
        "])\n",
        "\n",
        "normalize = tf.keras.layers.Rescaling(1.0/255)\n",
        "\n",
        "def aug_and_norm(x, y, training=False):\n",
        "    if training:\n",
        "        x = data_augmentation(x, training=True)\n",
        "    x = normalize(x)\n",
        "    return x, y\n",
        "\n",
        "train_ds = train_ds.map(lambda x,y: aug_and_norm(x,y,training=True), num_parallel_calls=AUTOTUNE)\n",
        "val_ds   = val_ds.map(lambda x,y: aug_and_norm(x,y,training=False), num_parallel_calls=AUTOTUNE)\n",
        "test_ds  = test_ds.map(lambda x,y: aug_and_norm(x,y,training=False), num_parallel_calls=AUTOTUNE)\n",
        "\n",
        "train_ds = train_ds.cache().prefetch(AUTOTUNE)\n",
        "val_ds   = val_ds.cache().prefetch(AUTOTUNE)\n",
        "test_ds  = test_ds.cache().prefetch(AUTOTUNE)\n",
        "\n",
        "# ==============================\n",
        "# Step 4: Class Weights\n",
        "# ==============================\n",
        "def count_images_by_class(folder):\n",
        "    counts = defaultdict(int)\n",
        "    for cls in sorted(os.listdir(folder)):\n",
        "        cls_path = os.path.join(folder, cls)\n",
        "        if not os.path.isdir(cls_path):\n",
        "            continue\n",
        "        for root, _, files in os.walk(cls_path):\n",
        "            for f in files:\n",
        "                if f.lower().endswith((\".png\",\".jpg\",\".jpeg\",\".bmp\",\".jfif\")):\n",
        "                    counts[cls] += 1\n",
        "    return dict(counts)\n",
        "\n",
        "train_counts = count_images_by_class(train_dir)\n",
        "print(\"Train counts:\", train_counts)\n",
        "\n",
        "normal_n = train_counts.get(\"NORMAL\", 1)\n",
        "pneumonia_n = train_counts.get(\"PNEUMONIA\", 1)\n",
        "total = normal_n + pneumonia_n\n",
        "\n",
        "class_weight = {\n",
        "    0: total / (2.0 * normal_n),\n",
        "    1: total / (2.0 * pneumonia_n),\n",
        "}\n",
        "print(\"Class Weights:\", class_weight)\n",
        "\n",
        "# ==============================\n",
        "# Step 5: Model Setup\n",
        "# ==============================\n",
        "base_model = MobileNetV2(weights=\"imagenet\", include_top=False, input_shape=(IMG_SIZE,IMG_SIZE,3))\n",
        "base_model.trainable = False  # Freeze base initially\n",
        "\n",
        "x = base_model.output\n",
        "x = GlobalAveragePooling2D()(x)\n",
        "x = Dropout(0.5)(x)\n",
        "x = Dense(256, activation='relu', kernel_regularizer=tf.keras.regularizers.l2(0.001))(x)\n",
        "x = Dropout(0.5)(x)\n",
        "predictions = Dense(1, activation='sigmoid')(x)\n",
        "\n",
        "model = Model(inputs=base_model.input, outputs=predictions)\n",
        "model.compile(optimizer=Adam(learning_rate=1e-4),\n",
        "              loss=\"binary_crossentropy\",\n",
        "              metrics=[\"accuracy\"])\n",
        "\n",
        "# ==============================\n",
        "# Step 6: Callbacks\n",
        "# ==============================\n",
        "callbacks = [\n",
        "    EarlyStopping(monitor=\"val_loss\", patience=3, restore_best_weights=True),\n",
        "    ModelCheckpoint(\"/content/drive/MyDrive/best_model.h5\", save_best_only=True)\n",
        "]\n",
        "\n",
        "# ==============================\n",
        "# Step 7: Train top layers first\n",
        "# ==============================\n",
        "history = model.fit(\n",
        "    train_ds,\n",
        "    validation_data=val_ds,\n",
        "    epochs=10,\n",
        "    class_weight=class_weight,\n",
        "    callbacks=callbacks\n",
        ")\n",
        "\n",
        "# ==============================\n",
        "# Step 8: Fine-tune last 10 layers\n",
        "# ==============================\n",
        "base_model.trainable = True\n",
        "for layer in base_model.layers[:-10]:\n",
        "    layer.trainable = False\n",
        "\n",
        "model.compile(optimizer=Adam(learning_rate=1e-5),\n",
        "              loss=\"binary_crossentropy\",\n",
        "              metrics=[\"accuracy\"])\n",
        "\n",
        "history_fine = model.fit(\n",
        "    train_ds,\n",
        "    validation_data=val_ds,\n",
        "    epochs=5,\n",
        "    class_weight=class_weight,\n",
        "    callbacks=callbacks\n",
        ")\n",
        "\n",
        "# ==============================\n",
        "# Step 9: Evaluation\n",
        "# ==============================\n",
        "test_loss, test_acc = model.evaluate(test_ds)\n",
        "print(\"Test Accuracy:\", test_acc)\n",
        "\n",
        "# Accuracy and Loss curves\n",
        "plt.figure(figsize=(12,5))\n",
        "plt.subplot(1,2,1)\n",
        "plt.plot(history.history[\"accuracy\"] + history_fine.history[\"accuracy\"], label=\"train acc\")\n",
        "plt.plot(history.history[\"val_accuracy\"] + history_fine.history[\"val_accuracy\"], label=\"val acc\")\n",
        "plt.title(\"Accuracy\")\n",
        "plt.legend()\n",
        "\n",
        "plt.subplot(1,2,2)\n",
        "plt.plot(history.history[\"loss\"] + history_fine.history[\"loss\"], label=\"train loss\")\n",
        "plt.plot(history.history[\"val_loss\"] + history_fine.history[\"val_loss\"], label=\"val loss\")\n",
        "plt.title(\"Loss\")\n",
        "plt.legend()\n",
        "plt.show()\n",
        "\n",
        "# ==============================\n",
        "# Step 10: Confusion Matrix + ROC-AUC\n",
        "# ==============================\n",
        "y_true = np.concatenate([y for x,y in test_ds], axis=0)\n",
        "y_pred_prob = model.predict(test_ds).ravel()\n",
        "y_pred = (y_pred_prob > 0.5).astype(\"int32\")\n",
        "\n",
        "print(\"Confusion Matrix:\")\n",
        "print(confusion_matrix(y_true, y_pred))\n",
        "print(\"\\nClassification Report:\")\n",
        "print(classification_report(y_true, y_pred, target_names=class_names))\n",
        "\n",
        "roc_auc = roc_auc_score(y_true, y_pred_prob)\n",
        "print(\"ROC-AUC:\", roc_auc)\n"
      ],
      "metadata": {
        "id": "ru_V6a1BnL75",
        "colab": {
          "base_uri": "https://localhost:8080/",
          "height": 1000
        },
        "outputId": "bc3e35e0-c36e-4902-a8ad-30156f61505d"
      },
      "execution_count": null,
      "outputs": [
        {
          "output_type": "stream",
          "name": "stdout",
          "text": [
            "Drive already mounted at /content/drive; to attempt to forcibly remount, call drive.mount(\"/content/drive\", force_remount=True).\n",
            "Found 5216 files belonging to 2 classes.\n",
            "Using 4695 files for training.\n",
            "Found 5216 files belonging to 2 classes.\n",
            "Using 521 files for validation.\n",
            "Found 624 files belonging to 2 classes.\n",
            "Class Names: ['NORMAL', 'PNEUMONIA']\n",
            "Train counts: {'NORMAL': 1341, 'PNEUMONIA': 3875}\n",
            "Class Weights: {0: 1.9448173005219984, 1: 0.6730322580645162}\n",
            "Downloading data from https://storage.googleapis.com/tensorflow/keras-applications/mobilenet_v2/mobilenet_v2_weights_tf_dim_ordering_tf_kernels_1.0_224_no_top.h5\n",
            "\u001b[1m9406464/9406464\u001b[0m \u001b[32m━━━━━━━━━━━━━━━━━━━━\u001b[0m\u001b[37m\u001b[0m \u001b[1m2s\u001b[0m 0us/step\n",
            "Epoch 1/10\n",
            "\u001b[1m147/147\u001b[0m \u001b[32m━━━━━━━━━━━━━━━━━━━━\u001b[0m\u001b[37m\u001b[0m \u001b[1m0s\u001b[0m 3s/step - accuracy: 0.5746 - loss: 1.2351"
          ]
        },
        {
          "output_type": "stream",
          "name": "stderr",
          "text": [
            "WARNING:absl:You are saving your model as an HDF5 file via `model.save()` or `keras.saving.save_model(model)`. This file format is considered legacy. We recommend using instead the native Keras format, e.g. `model.save('my_model.keras')` or `keras.saving.save_model(model, 'my_model.keras')`. \n"
          ]
        },
        {
          "output_type": "stream",
          "name": "stdout",
          "text": [
            "\b\b\b\b\b\b\b\b\b\b\b\b\b\b\b\b\b\b\b\b\b\b\b\b\b\b\b\b\b\b\b\b\b\b\b\b\b\b\b\b\b\b\b\b\b\b\b\b\b\b\b\b\b\b\b\b\b\b\b\b\b\b\b\b\b\b\b\b\b\b\b\b\b\r\u001b[1m147/147\u001b[0m \u001b[32m━━━━━━━━━━━━━━━━━━━━\u001b[0m\u001b[37m\u001b[0m \u001b[1m568s\u001b[0m 4s/step - accuracy: 0.5752 - loss: 1.2341 - val_accuracy: 0.8407 - val_loss: 0.7869\n",
            "Epoch 2/10\n",
            "\u001b[1m147/147\u001b[0m \u001b[32m━━━━━━━━━━━━━━━━━━━━\u001b[0m\u001b[37m\u001b[0m \u001b[1m0s\u001b[0m 29ms/step - accuracy: 0.7716 - loss: 0.8583"
          ]
        },
        {
          "output_type": "stream",
          "name": "stderr",
          "text": [
            "WARNING:absl:You are saving your model as an HDF5 file via `model.save()` or `keras.saving.save_model(model)`. This file format is considered legacy. We recommend using instead the native Keras format, e.g. `model.save('my_model.keras')` or `keras.saving.save_model(model, 'my_model.keras')`. \n"
          ]
        },
        {
          "output_type": "stream",
          "name": "stdout",
          "text": [
            "\b\b\b\b\b\b\b\b\b\b\b\b\b\b\b\b\b\b\b\b\b\b\b\b\b\b\b\b\b\b\b\b\b\b\b\b\b\b\b\b\b\b\b\b\b\b\b\b\b\b\b\b\b\b\b\b\b\b\b\b\b\b\b\b\b\b\b\b\b\b\b\b\b\b\b\r\u001b[1m147/147\u001b[0m \u001b[32m━━━━━━━━━━━━━━━━━━━━\u001b[0m\u001b[37m\u001b[0m \u001b[1m64s\u001b[0m 41ms/step - accuracy: 0.7717 - loss: 0.8581 - val_accuracy: 0.8695 - val_loss: 0.6787\n",
            "Epoch 3/10\n",
            "\u001b[1m145/147\u001b[0m \u001b[32m━━━━━━━━━━━━━━━━━━━\u001b[0m\u001b[37m━\u001b[0m \u001b[1m0s\u001b[0m 29ms/step - accuracy: 0.8174 - loss: 0.7522"
          ]
        },
        {
          "output_type": "stream",
          "name": "stderr",
          "text": [
            "WARNING:absl:You are saving your model as an HDF5 file via `model.save()` or `keras.saving.save_model(model)`. This file format is considered legacy. We recommend using instead the native Keras format, e.g. `model.save('my_model.keras')` or `keras.saving.save_model(model, 'my_model.keras')`. \n"
          ]
        },
        {
          "output_type": "stream",
          "name": "stdout",
          "text": [
            "\b\b\b\b\b\b\b\b\b\b\b\b\b\b\b\b\b\b\b\b\b\b\b\b\b\b\b\b\b\b\b\b\b\b\b\b\b\b\b\b\b\b\b\b\b\b\b\b\b\b\b\b\b\b\b\b\b\b\b\b\b\b\b\b\b\b\b\b\b\b\b\b\b\b\b\r\u001b[1m147/147\u001b[0m \u001b[32m━━━━━━━━━━━━━━━━━━━━\u001b[0m\u001b[37m\u001b[0m \u001b[1m9s\u001b[0m 34ms/step - accuracy: 0.8175 - loss: 0.7520 - val_accuracy: 0.8829 - val_loss: 0.6319\n",
            "Epoch 4/10\n",
            "\u001b[1m145/147\u001b[0m \u001b[32m━━━━━━━━━━━━━━━━━━━\u001b[0m\u001b[37m━\u001b[0m \u001b[1m0s\u001b[0m 28ms/step - accuracy: 0.8357 - loss: 0.6919"
          ]
        },
        {
          "output_type": "stream",
          "name": "stderr",
          "text": [
            "WARNING:absl:You are saving your model as an HDF5 file via `model.save()` or `keras.saving.save_model(model)`. This file format is considered legacy. We recommend using instead the native Keras format, e.g. `model.save('my_model.keras')` or `keras.saving.save_model(model, 'my_model.keras')`. \n"
          ]
        },
        {
          "output_type": "stream",
          "name": "stdout",
          "text": [
            "\b\b\b\b\b\b\b\b\b\b\b\b\b\b\b\b\b\b\b\b\b\b\b\b\b\b\b\b\b\b\b\b\b\b\b\b\b\b\b\b\b\b\b\b\b\b\b\b\b\b\b\b\b\b\b\b\b\b\b\b\b\b\b\b\b\b\b\b\b\b\b\b\b\b\b\r\u001b[1m147/147\u001b[0m \u001b[32m━━━━━━━━━━━━━━━━━━━━\u001b[0m\u001b[37m\u001b[0m \u001b[1m5s\u001b[0m 36ms/step - accuracy: 0.8357 - loss: 0.6919 - val_accuracy: 0.8944 - val_loss: 0.5960\n",
            "Epoch 5/10\n",
            "\u001b[1m145/147\u001b[0m \u001b[32m━━━━━━━━━━━━━━━━━━━\u001b[0m\u001b[37m━\u001b[0m \u001b[1m0s\u001b[0m 29ms/step - accuracy: 0.8559 - loss: 0.6640"
          ]
        },
        {
          "output_type": "stream",
          "name": "stderr",
          "text": [
            "WARNING:absl:You are saving your model as an HDF5 file via `model.save()` or `keras.saving.save_model(model)`. This file format is considered legacy. We recommend using instead the native Keras format, e.g. `model.save('my_model.keras')` or `keras.saving.save_model(model, 'my_model.keras')`. \n"
          ]
        },
        {
          "output_type": "stream",
          "name": "stdout",
          "text": [
            "\b\b\b\b\b\b\b\b\b\b\b\b\b\b\b\b\b\b\b\b\b\b\b\b\b\b\b\b\b\b\b\b\b\b\b\b\b\b\b\b\b\b\b\b\b\b\b\b\b\b\b\b\b\b\b\b\b\b\b\b\b\b\b\b\b\b\b\b\b\b\b\b\b\b\b\r\u001b[1m147/147\u001b[0m \u001b[32m━━━━━━━━━━━━━━━━━━━━\u001b[0m\u001b[37m\u001b[0m \u001b[1m11s\u001b[0m 39ms/step - accuracy: 0.8559 - loss: 0.6639 - val_accuracy: 0.9021 - val_loss: 0.5668\n",
            "Epoch 6/10\n",
            "\u001b[1m147/147\u001b[0m \u001b[32m━━━━━━━━━━━━━━━━━━━━\u001b[0m\u001b[37m\u001b[0m \u001b[1m5s\u001b[0m 32ms/step - accuracy: 0.8595 - loss: 0.6331 - val_accuracy: 0.8791 - val_loss: 0.5728\n",
            "Epoch 7/10\n",
            "\u001b[1m147/147\u001b[0m \u001b[32m━━━━━━━━━━━━━━━━━━━━\u001b[0m\u001b[37m\u001b[0m \u001b[1m0s\u001b[0m 28ms/step - accuracy: 0.8539 - loss: 0.6203"
          ]
        },
        {
          "output_type": "stream",
          "name": "stderr",
          "text": [
            "WARNING:absl:You are saving your model as an HDF5 file via `model.save()` or `keras.saving.save_model(model)`. This file format is considered legacy. We recommend using instead the native Keras format, e.g. `model.save('my_model.keras')` or `keras.saving.save_model(model, 'my_model.keras')`. \n"
          ]
        },
        {
          "output_type": "stream",
          "name": "stdout",
          "text": [
            "\b\b\b\b\b\b\b\b\b\b\b\b\b\b\b\b\b\b\b\b\b\b\b\b\b\b\b\b\b\b\b\b\b\b\b\b\b\b\b\b\b\b\b\b\b\b\b\b\b\b\b\b\b\b\b\b\b\b\b\b\b\b\b\b\b\b\b\b\b\b\b\b\b\b\b\r\u001b[1m147/147\u001b[0m \u001b[32m━━━━━━━━━━━━━━━━━━━━\u001b[0m\u001b[37m\u001b[0m \u001b[1m5s\u001b[0m 34ms/step - accuracy: 0.8540 - loss: 0.6203 - val_accuracy: 0.8944 - val_loss: 0.5446\n",
            "Epoch 8/10\n",
            "\u001b[1m147/147\u001b[0m \u001b[32m━━━━━━━━━━━━━━━━━━━━\u001b[0m\u001b[37m\u001b[0m \u001b[1m0s\u001b[0m 28ms/step - accuracy: 0.8717 - loss: 0.5906"
          ]
        },
        {
          "output_type": "stream",
          "name": "stderr",
          "text": [
            "WARNING:absl:You are saving your model as an HDF5 file via `model.save()` or `keras.saving.save_model(model)`. This file format is considered legacy. We recommend using instead the native Keras format, e.g. `model.save('my_model.keras')` or `keras.saving.save_model(model, 'my_model.keras')`. \n"
          ]
        },
        {
          "output_type": "stream",
          "name": "stdout",
          "text": [
            "\b\b\b\b\b\b\b\b\b\b\b\b\b\b\b\b\b\b\b\b\b\b\b\b\b\b\b\b\b\b\b\b\b\b\b\b\b\b\b\b\b\b\b\b\b\b\b\b\b\b\b\b\b\b\b\b\b\b\b\b\b\b\b\b\b\b\b\b\b\b\b\b\b\b\b\r\u001b[1m147/147\u001b[0m \u001b[32m━━━━━━━━━━━━━━━━━━━━\u001b[0m\u001b[37m\u001b[0m \u001b[1m5s\u001b[0m 37ms/step - accuracy: 0.8717 - loss: 0.5906 - val_accuracy: 0.8983 - val_loss: 0.5231\n",
            "Epoch 9/10\n",
            "\u001b[1m147/147\u001b[0m \u001b[32m━━━━━━━━━━━━━━━━━━━━\u001b[0m\u001b[37m\u001b[0m \u001b[1m0s\u001b[0m 29ms/step - accuracy: 0.8823 - loss: 0.5557"
          ]
        },
        {
          "output_type": "stream",
          "name": "stderr",
          "text": [
            "WARNING:absl:You are saving your model as an HDF5 file via `model.save()` or `keras.saving.save_model(model)`. This file format is considered legacy. We recommend using instead the native Keras format, e.g. `model.save('my_model.keras')` or `keras.saving.save_model(model, 'my_model.keras')`. \n"
          ]
        },
        {
          "output_type": "stream",
          "name": "stdout",
          "text": [
            "\b\b\b\b\b\b\b\b\b\b\b\b\b\b\b\b\b\b\b\b\b\b\b\b\b\b\b\b\b\b\b\b\b\b\b\b\b\b\b\b\b\b\b\b\b\b\b\b\b\b\b\b\b\b\b\b\b\b\b\b\b\b\b\b\b\b\b\b\b\b\b\b\b\b\b\r\u001b[1m147/147\u001b[0m \u001b[32m━━━━━━━━━━━━━━━━━━━━\u001b[0m\u001b[37m\u001b[0m \u001b[1m10s\u001b[0m 36ms/step - accuracy: 0.8823 - loss: 0.5557 - val_accuracy: 0.9079 - val_loss: 0.5043\n",
            "Epoch 10/10\n",
            "\u001b[1m147/147\u001b[0m \u001b[32m━━━━━━━━━━━━━━━━━━━━\u001b[0m\u001b[37m\u001b[0m \u001b[1m0s\u001b[0m 29ms/step - accuracy: 0.8717 - loss: 0.5446"
          ]
        },
        {
          "output_type": "stream",
          "name": "stderr",
          "text": [
            "WARNING:absl:You are saving your model as an HDF5 file via `model.save()` or `keras.saving.save_model(model)`. This file format is considered legacy. We recommend using instead the native Keras format, e.g. `model.save('my_model.keras')` or `keras.saving.save_model(model, 'my_model.keras')`. \n"
          ]
        },
        {
          "output_type": "stream",
          "name": "stdout",
          "text": [
            "\b\b\b\b\b\b\b\b\b\b\b\b\b\b\b\b\b\b\b\b\b\b\b\b\b\b\b\b\b\b\b\b\b\b\b\b\b\b\b\b\b\b\b\b\b\b\b\b\b\b\b\b\b\b\b\b\b\b\b\b\b\b\b\b\b\b\b\b\b\b\b\b\b\b\b\r\u001b[1m147/147\u001b[0m \u001b[32m━━━━━━━━━━━━━━━━━━━━\u001b[0m\u001b[37m\u001b[0m \u001b[1m11s\u001b[0m 40ms/step - accuracy: 0.8718 - loss: 0.5446 - val_accuracy: 0.9079 - val_loss: 0.4948\n",
            "Epoch 1/5\n",
            "\u001b[1m147/147\u001b[0m \u001b[32m━━━━━━━━━━━━━━━━━━━━\u001b[0m\u001b[37m\u001b[0m \u001b[1m0s\u001b[0m 73ms/step - accuracy: 0.8725 - loss: 0.6519"
          ]
        },
        {
          "output_type": "stream",
          "name": "stderr",
          "text": [
            "WARNING:absl:You are saving your model as an HDF5 file via `model.save()` or `keras.saving.save_model(model)`. This file format is considered legacy. We recommend using instead the native Keras format, e.g. `model.save('my_model.keras')` or `keras.saving.save_model(model, 'my_model.keras')`. \n"
          ]
        },
        {
          "output_type": "stream",
          "name": "stdout",
          "text": [
            "\b\b\b\b\b\b\b\b\b\b\b\b\b\b\b\b\b\b\b\b\b\b\b\b\b\b\b\b\b\b\b\b\b\b\b\b\b\b\b\b\b\b\b\b\b\b\b\b\b\b\b\b\b\b\b\b\b\b\b\b\b\b\b\b\b\b\b\b\b\b\b\b\b\b\b\r\u001b[1m147/147\u001b[0m \u001b[32m━━━━━━━━━━━━━━━━━━━━\u001b[0m\u001b[37m\u001b[0m \u001b[1m33s\u001b[0m 141ms/step - accuracy: 0.8725 - loss: 0.6515 - val_accuracy: 0.9424 - val_loss: 0.4415\n",
            "Epoch 2/5\n",
            "\u001b[1m147/147\u001b[0m \u001b[32m━━━━━━━━━━━━━━━━━━━━\u001b[0m\u001b[37m\u001b[0m \u001b[1m0s\u001b[0m 32ms/step - accuracy: 0.8760 - loss: 0.5615"
          ]
        },
        {
          "output_type": "stream",
          "name": "stderr",
          "text": [
            "WARNING:absl:You are saving your model as an HDF5 file via `model.save()` or `keras.saving.save_model(model)`. This file format is considered legacy. We recommend using instead the native Keras format, e.g. `model.save('my_model.keras')` or `keras.saving.save_model(model, 'my_model.keras')`. \n"
          ]
        },
        {
          "output_type": "stream",
          "name": "stdout",
          "text": [
            "\b\b\b\b\b\b\b\b\b\b\b\b\b\b\b\b\b\b\b\b\b\b\b\b\b\b\b\b\b\b\b\b\b\b\b\b\b\b\b\b\b\b\b\b\b\b\b\b\b\b\b\b\b\b\b\b\b\b\b\b\b\b\b\b\b\b\b\b\b\b\b\b\b\b\b\r\u001b[1m147/147\u001b[0m \u001b[32m━━━━━━━━━━━━━━━━━━━━\u001b[0m\u001b[37m\u001b[0m \u001b[1m21s\u001b[0m 43ms/step - accuracy: 0.8760 - loss: 0.5614 - val_accuracy: 0.9386 - val_loss: 0.4410\n",
            "Epoch 3/5\n",
            "\u001b[1m147/147\u001b[0m \u001b[32m━━━━━━━━━━━━━━━━━━━━\u001b[0m\u001b[37m\u001b[0m \u001b[1m0s\u001b[0m 32ms/step - accuracy: 0.8881 - loss: 0.5369"
          ]
        },
        {
          "output_type": "stream",
          "name": "stderr",
          "text": [
            "WARNING:absl:You are saving your model as an HDF5 file via `model.save()` or `keras.saving.save_model(model)`. This file format is considered legacy. We recommend using instead the native Keras format, e.g. `model.save('my_model.keras')` or `keras.saving.save_model(model, 'my_model.keras')`. \n"
          ]
        },
        {
          "output_type": "stream",
          "name": "stdout",
          "text": [
            "\b\b\b\b\b\b\b\b\b\b\b\b\b\b\b\b\b\b\b\b\b\b\b\b\b\b\b\b\b\b\b\b\b\b\b\b\b\b\b\b\b\b\b\b\b\b\b\b\b\b\b\b\b\b\b\b\b\b\b\b\b\b\b\b\b\b\b\b\b\b\b\b\b\b\b\r\u001b[1m147/147\u001b[0m \u001b[32m━━━━━━━━━━━━━━━━━━━━\u001b[0m\u001b[37m\u001b[0m \u001b[1m10s\u001b[0m 39ms/step - accuracy: 0.8881 - loss: 0.5368 - val_accuracy: 0.9386 - val_loss: 0.4373\n",
            "Epoch 4/5\n",
            "\u001b[1m147/147\u001b[0m \u001b[32m━━━━━━━━━━━━━━━━━━━━\u001b[0m\u001b[37m\u001b[0m \u001b[1m0s\u001b[0m 32ms/step - accuracy: 0.8968 - loss: 0.5019"
          ]
        },
        {
          "output_type": "stream",
          "name": "stderr",
          "text": [
            "WARNING:absl:You are saving your model as an HDF5 file via `model.save()` or `keras.saving.save_model(model)`. This file format is considered legacy. We recommend using instead the native Keras format, e.g. `model.save('my_model.keras')` or `keras.saving.save_model(model, 'my_model.keras')`. \n"
          ]
        },
        {
          "output_type": "stream",
          "name": "stdout",
          "text": [
            "\b\b\b\b\b\b\b\b\b\b\b\b\b\b\b\b\b\b\b\b\b\b\b\b\b\b\b\b\b\b\b\b\b\b\b\b\b\b\b\b\b\b\b\b\b\b\b\b\b\b\b\b\b\b\b\b\b\b\b\b\b\b\b\b\b\b\b\b\b\b\b\b\b\b\b\r\u001b[1m147/147\u001b[0m \u001b[32m━━━━━━━━━━━━━━━━━━━━\u001b[0m\u001b[37m\u001b[0m \u001b[1m10s\u001b[0m 40ms/step - accuracy: 0.8968 - loss: 0.5019 - val_accuracy: 0.9347 - val_loss: 0.4368\n",
            "Epoch 5/5\n",
            "\u001b[1m147/147\u001b[0m \u001b[32m━━━━━━━━━━━━━━━━━━━━\u001b[0m\u001b[37m\u001b[0m \u001b[1m0s\u001b[0m 32ms/step - accuracy: 0.9101 - loss: 0.4919"
          ]
        },
        {
          "output_type": "stream",
          "name": "stderr",
          "text": [
            "WARNING:absl:You are saving your model as an HDF5 file via `model.save()` or `keras.saving.save_model(model)`. This file format is considered legacy. We recommend using instead the native Keras format, e.g. `model.save('my_model.keras')` or `keras.saving.save_model(model, 'my_model.keras')`. \n"
          ]
        },
        {
          "output_type": "stream",
          "name": "stdout",
          "text": [
            "\u001b[1m147/147\u001b[0m \u001b[32m━━━━━━━━━━━━━━━━━━━━\u001b[0m\u001b[37m\u001b[0m \u001b[1m6s\u001b[0m 39ms/step - accuracy: 0.9101 - loss: 0.4917 - val_accuracy: 0.9386 - val_loss: 0.4336\n",
            "\u001b[1m20/20\u001b[0m \u001b[32m━━━━━━━━━━━━━━━━━━━━\u001b[0m\u001b[37m\u001b[0m \u001b[1m196s\u001b[0m 10s/step - accuracy: 0.6960 - loss: 1.0630\n",
            "Test Accuracy: 0.8285256624221802\n"
          ]
        },
        {
          "output_type": "display_data",
          "data": {
            "text/plain": [
              "<Figure size 1200x500 with 2 Axes>"
            ],
            "image/png": "[encoded data removed]"
          },
          "metadata": {}
        },
        {
          "output_type": "stream",
          "name": "stdout",
          "text": [
            "\u001b[1m20/20\u001b[0m \u001b[32m━━━━━━━━━━━━━━━━━━━━\u001b[0m\u001b[37m\u001b[0m \u001b[1m9s\u001b[0m 263ms/step\n",
            "Confusion Matrix:\n",
            "[[130 104]\n",
            " [  3 387]]\n",
            "\n",
            "Classification Report:\n",
            "              precision    recall  f1-score   support\n",
            "\n",
            "      NORMAL       0.98      0.56      0.71       234\n",
            "   PNEUMONIA       0.79      0.99      0.88       390\n",
            "\n",
            "    accuracy                           0.83       624\n",
            "   macro avg       0.88      0.77      0.79       624\n",
            "weighted avg       0.86      0.83      0.81       624\n",
            "\n",
            "ROC-AUC: 0.9533420994959456\n"
          ]
        }
      ]
    },
    {
      "cell_type": "code",
      "source": [
        "# Save in HDF5 format\n",
        "model.save(\"pneumonia_detection_model1.h5\")"
      ],
      "metadata": {
        "colab": {
          "base_uri": "https://localhost:8080/"
        },
        "id": "mfUIaLajsYhC",
        "outputId": "6d23d284-ca47-475b-c83e-aa9f8d4319a6"
      },
      "execution_count": null,
      "outputs": [
        {
          "output_type": "stream",
          "name": "stderr",
          "text": [
            "WARNING:absl:You are saving your model as an HDF5 file via `model.save()` or `keras.saving.save_model(model)`. This file format is considered legacy. We recommend using instead the native Keras format, e.g. `model.save('my_model.keras')` or `keras.saving.save_model(model, 'my_model.keras')`. \n"
          ]
        }
      ]
    },
    {
      "cell_type": "code",
      "source": [
        "import gradio as gr\n",
        "import numpy as np\n",
        "import cv2\n",
        "import tensorflow as tf\n",
        "from tensorflow.keras.models import load_model\n",
        "\n",
        "# Load your trained model\n",
        "model = load_model(\"/content/pneumonia_detection_model1.h5\",compile=False)\n",
        "\n",
        "# ======================\n",
        "# Function to calculate severity (brightness-based metric)\n",
        "# ======================\n",
        "def calculate_severity(img_array):\n",
        "    gray = cv2.cvtColor(img_array, cv2.COLOR_RGB2GRAY)\n",
        "    severity_score = np.mean(gray) / 255\n",
        "    return round(severity_score * 100, 2)\n",
        "\n",
        "# ======================\n",
        "# Function to determine pneumonia stage\n",
        "# ======================\n",
        "def get_stage(severity):\n",
        "    if severity < 20:\n",
        "        return \"🟢 Mild\"\n",
        "    elif severity < 50:\n",
        "        return \"🟡 Moderate\"\n",
        "    elif severity < 75:\n",
        "        return \"🟠 Severe\"\n",
        "    else:\n",
        "        return \"🔴 Critical\"\n",
        "\n",
        "# ======================\n",
        "# Prediction function\n",
        "# ======================\n",
        "def predict_pneumonia(img):\n",
        "    try:\n",
        "        if img is None:\n",
        "            return [\n",
        "                [\"Detection\", \"No image uploaded\"],\n",
        "                [\"Stage\", \"N/A\"],\n",
        "                [\"Severity (%)\", \"N/A\"],\n",
        "                [\"Confidence\", \"N/A\"]\n",
        "            ]\n",
        "\n",
        "        # Resize to match model input\n",
        "        img_resized = cv2.resize(img, (224, 224))\n",
        "        img_array = np.expand_dims(img_resized, axis=0) / 255.0\n",
        "\n",
        "        # Model prediction\n",
        "        prediction = model.predict(img_array, verbose=0)[0][0]\n",
        "\n",
        "        if prediction > 0.5:  # Pneumonia\n",
        "            detection = \"🔴 Pneumonia Detected\"\n",
        "            confidence = prediction * 100\n",
        "            severity = calculate_severity(img)\n",
        "            stage = get_stage(severity)\n",
        "        else:  # Normal\n",
        "            detection = \"🟢 Normal\"\n",
        "            confidence = (1 - prediction) * 100\n",
        "            severity = 0.0\n",
        "            stage = \"—\"\n",
        "\n",
        "        return [\n",
        "            [\"Detection\", detection],\n",
        "            [\"Stage\", stage],\n",
        "            [\"Severity (%)\", f\"{severity}%\"],\n",
        "            [\"Confidence\", f\"{confidence:.2f}%\"]\n",
        "        ]\n",
        "    except Exception as e:\n",
        "        return [[\"Error\", str(e)]]\n",
        "\n",
        "# ======================\n",
        "# Build Gradio UI\n",
        "# ======================\n",
        "with gr.Blocks(css=\"\"\"\n",
        "#analyze-btn {\n",
        "    background-color: #007BFF !important;\n",
        "    color: white !important;\n",
        "    font-size: 18px !important;\n",
        "    font-weight: bold !important;\n",
        "    border-radius: 10px !important;\n",
        "    padding: 10px 20px !important;\n",
        "    border: none !important;\n",
        "    cursor: pointer !important;\n",
        "    transition: 0.3s;\n",
        "}\n",
        "#analyze-btn:hover {\n",
        "    background-color: #0056b3 !important;\n",
        "}\n",
        "#results-card {\n",
        "    background:#F5F5DC;  /* Light Beige */\n",
        "    color: #222;\n",
        "    padding: 15px;\n",
        "    border-radius: 12px;\n",
        "    box-shadow: 0px 6px 15px rgba(0,0,0,0.3);\n",
        "    margin-top: 10px;\n",
        "}\n",
        "/* Force label color (Results heading) to black */\n",
        "#results-card label, .wrap.svelte-1ipelgc label {\n",
        "    color: black !important;\n",
        "    font-weight: bold !important;\n",
        "    font-size: 16px !important;\n",
        "}\n",
        "\"\"\") as demo:\n",
        "\n",
        "    gr.Markdown(\n",
        "        \"\"\"\n",
        "        <div style='text-align: center; font-weight: bold;'>\n",
        "            <h1 style='color:#8B0000; font-size: 32px;'>🩺 Pneumonia Detection</h1>\n",
        "        </div>\n",
        "        \"\"\"\n",
        "    )\n",
        "\n",
        "    with gr.Row():\n",
        "        with gr.Column():\n",
        "            img_input = gr.Image(type=\"numpy\", label=\"Upload Chest X-ray\")\n",
        "            btn = gr.Button(\"🔍 Analyze X-ray\", elem_id=\"analyze-btn\")\n",
        "        with gr.Column():\n",
        "            with gr.Group():\n",
        "                output_box = gr.Dataframe(\n",
        "                    headers=[\"Metric\", \"Result\"],\n",
        "                    label=\"Results\",\n",
        "                    interactive=False,\n",
        "                    elem_id=\"results-card\"\n",
        "                )\n",
        "\n",
        "    btn.click(predict_pneumonia, inputs=img_input, outputs=output_box)\n",
        "\n",
        "demo.launch(share=True)\n"
      ],
      "metadata": {
        "colab": {
          "base_uri": "https://localhost:8080/",
          "height": 614
        },
        "id": "3XwmB4XjE5HY",
        "outputId": "2c243bc4-f633-49be-c06c-4c9af78f37e0"
      },
      "execution_count": null,
      "outputs": [
        {
          "output_type": "stream",
          "name": "stdout",
          "text": [
            "Colab notebook detected. To show errors in colab notebook, set debug=True in launch()\n",
            "* Running on public URL: https://afbe9569eeaedd8ef8.gradio.live\n",
            "\n",
            "This share link expires in 1 week. For free permanent hosting and GPU upgrades, run `gradio deploy` from the terminal in the working directory to deploy to Hugging Face Spaces (https://huggingface.co/spaces)\n"
          ]
        },
        {
          "output_type": "display_data",
          "data": {
            "text/plain": [
              "<IPython.core.display.HTML object>"
            ],
            "text/html": [
              "<div><iframe src=\"https://afbe9569eeaedd8ef8.gradio.live\" width=\"100%\" height=\"500\" allow=\"autoplay; camera; microphone; clipboard-read; clipboard-write;\" frameborder=\"0\" allowfullscreen></iframe></div>"
            ]
          },
          "metadata": {}
        },
        {
          "output_type": "execute_result",
          "data": {
            "text/plain": []
          },
          "metadata": {},
          "execution_count": 4
        }
      ]
    }
  ]
}